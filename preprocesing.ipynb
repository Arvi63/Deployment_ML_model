{
  "nbformat": 4,
  "nbformat_minor": 0,
  "metadata": {
    "colab": {
      "name": "house_rent5.ipynb",
      "provenance": [],
      "collapsed_sections": []
    },
    "kernelspec": {
      "name": "python3",
      "display_name": "Python 3"
    }
  },
  "cells": [
    {
      "cell_type": "code",
      "metadata": {
        "id": "b-GL-L6HMm0w",
        "outputId": "8ec92cf4-170f-4ede-f844-64b37da9db4c",
        "colab": {
          "base_uri": "https://localhost:8080/",
          "height": 35
        }
      },
      "source": [
        "cd drive/My Drive/Colab Notebooks/ineuron/houseRent/"
      ],
      "execution_count": 1,
      "outputs": [
        {
          "output_type": "stream",
          "text": [
            "/content/drive/My Drive/Colab Notebooks/ineuron/houseRent\n"
          ],
          "name": "stdout"
        }
      ]
    },
    {
      "cell_type": "code",
      "metadata": {
        "id": "KvSV0pfsM35R"
      },
      "source": [
        "import numpy as np\n",
        "import pandas as pd\n",
        "import matplotlib.pyplot as plt\n",
        "import seaborn as sns \n",
        "sns.set(rc={'figure.figsize':(15,5)})\n",
        "from tqdm import tqdm"
      ],
      "execution_count": 2,
      "outputs": []
    },
    {
      "cell_type": "code",
      "metadata": {
        "id": "EHmw17zRM5Os",
        "outputId": "3f051369-9766-4dbb-fa64-9f77a38afc6d",
        "colab": {
          "base_uri": "https://localhost:8080/",
          "height": 254
        }
      },
      "source": [
        "df = pd.read_csv('housing_train.csv')\n",
        "df.head(2)"
      ],
      "execution_count": 3,
      "outputs": [
        {
          "output_type": "execute_result",
          "data": {
            "text/html": [
              "<div>\n",
              "<style scoped>\n",
              "    .dataframe tbody tr th:only-of-type {\n",
              "        vertical-align: middle;\n",
              "    }\n",
              "\n",
              "    .dataframe tbody tr th {\n",
              "        vertical-align: top;\n",
              "    }\n",
              "\n",
              "    .dataframe thead th {\n",
              "        text-align: right;\n",
              "    }\n",
              "</style>\n",
              "<table border=\"1\" class=\"dataframe\">\n",
              "  <thead>\n",
              "    <tr style=\"text-align: right;\">\n",
              "      <th></th>\n",
              "      <th>id</th>\n",
              "      <th>url</th>\n",
              "      <th>region</th>\n",
              "      <th>region_url</th>\n",
              "      <th>price</th>\n",
              "      <th>type</th>\n",
              "      <th>sqfeet</th>\n",
              "      <th>beds</th>\n",
              "      <th>baths</th>\n",
              "      <th>cats_allowed</th>\n",
              "      <th>dogs_allowed</th>\n",
              "      <th>smoking_allowed</th>\n",
              "      <th>wheelchair_access</th>\n",
              "      <th>electric_vehicle_charge</th>\n",
              "      <th>comes_furnished</th>\n",
              "      <th>laundry_options</th>\n",
              "      <th>parking_options</th>\n",
              "      <th>image_url</th>\n",
              "      <th>description</th>\n",
              "      <th>lat</th>\n",
              "      <th>long</th>\n",
              "      <th>state</th>\n",
              "    </tr>\n",
              "  </thead>\n",
              "  <tbody>\n",
              "    <tr>\n",
              "      <th>0</th>\n",
              "      <td>7039061606</td>\n",
              "      <td>https://bham.craigslist.org/apa/d/birmingham-h...</td>\n",
              "      <td>birmingham</td>\n",
              "      <td>https://bham.craigslist.org</td>\n",
              "      <td>1195</td>\n",
              "      <td>apartment</td>\n",
              "      <td>1908</td>\n",
              "      <td>3</td>\n",
              "      <td>2.0</td>\n",
              "      <td>1</td>\n",
              "      <td>1</td>\n",
              "      <td>1</td>\n",
              "      <td>0</td>\n",
              "      <td>0</td>\n",
              "      <td>0</td>\n",
              "      <td>laundry on site</td>\n",
              "      <td>street parking</td>\n",
              "      <td>https://images.craigslist.org/00L0L_80pNkyDeG0...</td>\n",
              "      <td>Apartments In Birmingham AL Welcome to 100 Inv...</td>\n",
              "      <td>33.4226</td>\n",
              "      <td>-86.7065</td>\n",
              "      <td>al</td>\n",
              "    </tr>\n",
              "    <tr>\n",
              "      <th>1</th>\n",
              "      <td>7041970863</td>\n",
              "      <td>https://bham.craigslist.org/apa/d/birmingham-w...</td>\n",
              "      <td>birmingham</td>\n",
              "      <td>https://bham.craigslist.org</td>\n",
              "      <td>1120</td>\n",
              "      <td>apartment</td>\n",
              "      <td>1319</td>\n",
              "      <td>3</td>\n",
              "      <td>2.0</td>\n",
              "      <td>1</td>\n",
              "      <td>1</td>\n",
              "      <td>1</td>\n",
              "      <td>0</td>\n",
              "      <td>0</td>\n",
              "      <td>0</td>\n",
              "      <td>laundry on site</td>\n",
              "      <td>off-street parking</td>\n",
              "      <td>https://images.craigslist.org/00707_uRrY9CsNMC...</td>\n",
              "      <td>Find Your Way to Haven Apartment Homes Come ho...</td>\n",
              "      <td>33.3755</td>\n",
              "      <td>-86.8045</td>\n",
              "      <td>al</td>\n",
              "    </tr>\n",
              "  </tbody>\n",
              "</table>\n",
              "</div>"
            ],
            "text/plain": [
              "           id                                                url  ...     long state\n",
              "0  7039061606  https://bham.craigslist.org/apa/d/birmingham-h...  ... -86.7065    al\n",
              "1  7041970863  https://bham.craigslist.org/apa/d/birmingham-w...  ... -86.8045    al\n",
              "\n",
              "[2 rows x 22 columns]"
            ]
          },
          "metadata": {
            "tags": []
          },
          "execution_count": 3
        }
      ]
    },
    {
      "cell_type": "code",
      "metadata": {
        "id": "cF3nbY8bM65I",
        "outputId": "83db9b6e-5dca-4a96-85e3-3d414081326c",
        "colab": {
          "base_uri": "https://localhost:8080/",
          "height": 127
        }
      },
      "source": [
        "print(\"Number of rows in data::\",df.shape[0])\n",
        "print(\"Number of features::\",df.shape[1])\n",
        "print(\"Feature names ::\",df.columns.values)"
      ],
      "execution_count": 4,
      "outputs": [
        {
          "output_type": "stream",
          "text": [
            "Number of rows in data:: 265190\n",
            "Number of features:: 22\n",
            "Feature names :: ['id' 'url' 'region' 'region_url' 'price' 'type' 'sqfeet' 'beds' 'baths'\n",
            " 'cats_allowed' 'dogs_allowed' 'smoking_allowed' 'wheelchair_access'\n",
            " 'electric_vehicle_charge' 'comes_furnished' 'laundry_options'\n",
            " 'parking_options' 'image_url' 'description' 'lat' 'long' 'state']\n"
          ],
          "name": "stdout"
        }
      ]
    },
    {
      "cell_type": "code",
      "metadata": {
        "id": "ng-ehSj0c5V1",
        "outputId": "41e13612-2b5e-43df-bc74-ef3d5949ec23",
        "colab": {
          "base_uri": "https://localhost:8080/",
          "height": 550
        }
      },
      "source": [
        "df.info()"
      ],
      "execution_count": 5,
      "outputs": [
        {
          "output_type": "stream",
          "text": [
            "<class 'pandas.core.frame.DataFrame'>\n",
            "RangeIndex: 265190 entries, 0 to 265189\n",
            "Data columns (total 22 columns):\n",
            " #   Column                   Non-Null Count   Dtype  \n",
            "---  ------                   --------------   -----  \n",
            " 0   id                       265190 non-null  int64  \n",
            " 1   url                      265190 non-null  object \n",
            " 2   region                   265190 non-null  object \n",
            " 3   region_url               265190 non-null  object \n",
            " 4   price                    265190 non-null  int64  \n",
            " 5   type                     265190 non-null  object \n",
            " 6   sqfeet                   265190 non-null  int64  \n",
            " 7   beds                     265190 non-null  int64  \n",
            " 8   baths                    265190 non-null  float64\n",
            " 9   cats_allowed             265190 non-null  int64  \n",
            " 10  dogs_allowed             265190 non-null  int64  \n",
            " 11  smoking_allowed          265190 non-null  int64  \n",
            " 12  wheelchair_access        265190 non-null  int64  \n",
            " 13  electric_vehicle_charge  265190 non-null  int64  \n",
            " 14  comes_furnished          265190 non-null  int64  \n",
            " 15  laundry_options          210879 non-null  object \n",
            " 16  parking_options          170055 non-null  object \n",
            " 17  image_url                265190 non-null  object \n",
            " 18  description              265188 non-null  object \n",
            " 19  lat                      263771 non-null  float64\n",
            " 20  long                     263771 non-null  float64\n",
            " 21  state                    265189 non-null  object \n",
            "dtypes: float64(3), int64(10), object(9)\n",
            "memory usage: 44.5+ MB\n"
          ],
          "name": "stdout"
        }
      ]
    },
    {
      "cell_type": "markdown",
      "metadata": {
        "id": "vicPZoA0NCu3"
      },
      "source": [
        "# From above info we can observe that, some feature values are missing like in description ,lat,long etc.\n",
        "\n",
        "Since price is discrete variable it is regression problem"
      ]
    },
    {
      "cell_type": "code",
      "metadata": {
        "id": "pVGME50JM85B",
        "outputId": "69b71eb3-47f5-4766-90a1-4042dfee9dc3",
        "colab": {
          "base_uri": "https://localhost:8080/",
          "height": 153
        }
      },
      "source": [
        "# since url feature are mostly useless we will drop the url containing features\n",
        "df.drop(['url','region_url','image_url'],axis=1,inplace=True)\n",
        "df.head(1)"
      ],
      "execution_count": null,
      "outputs": [
        {
          "output_type": "execute_result",
          "data": {
            "text/html": [
              "<div>\n",
              "<style scoped>\n",
              "    .dataframe tbody tr th:only-of-type {\n",
              "        vertical-align: middle;\n",
              "    }\n",
              "\n",
              "    .dataframe tbody tr th {\n",
              "        vertical-align: top;\n",
              "    }\n",
              "\n",
              "    .dataframe thead th {\n",
              "        text-align: right;\n",
              "    }\n",
              "</style>\n",
              "<table border=\"1\" class=\"dataframe\">\n",
              "  <thead>\n",
              "    <tr style=\"text-align: right;\">\n",
              "      <th></th>\n",
              "      <th>id</th>\n",
              "      <th>region</th>\n",
              "      <th>price</th>\n",
              "      <th>type</th>\n",
              "      <th>sqfeet</th>\n",
              "      <th>beds</th>\n",
              "      <th>baths</th>\n",
              "      <th>cats_allowed</th>\n",
              "      <th>dogs_allowed</th>\n",
              "      <th>smoking_allowed</th>\n",
              "      <th>wheelchair_access</th>\n",
              "      <th>electric_vehicle_charge</th>\n",
              "      <th>comes_furnished</th>\n",
              "      <th>laundry_options</th>\n",
              "      <th>parking_options</th>\n",
              "      <th>description</th>\n",
              "      <th>lat</th>\n",
              "      <th>long</th>\n",
              "      <th>state</th>\n",
              "    </tr>\n",
              "  </thead>\n",
              "  <tbody>\n",
              "    <tr>\n",
              "      <th>0</th>\n",
              "      <td>7039061606</td>\n",
              "      <td>birmingham</td>\n",
              "      <td>1195</td>\n",
              "      <td>apartment</td>\n",
              "      <td>1908</td>\n",
              "      <td>3</td>\n",
              "      <td>2.0</td>\n",
              "      <td>1</td>\n",
              "      <td>1</td>\n",
              "      <td>1</td>\n",
              "      <td>0</td>\n",
              "      <td>0</td>\n",
              "      <td>0</td>\n",
              "      <td>laundry on site</td>\n",
              "      <td>street parking</td>\n",
              "      <td>Apartments In Birmingham AL Welcome to 100 Inv...</td>\n",
              "      <td>33.4226</td>\n",
              "      <td>-86.7065</td>\n",
              "      <td>al</td>\n",
              "    </tr>\n",
              "  </tbody>\n",
              "</table>\n",
              "</div>"
            ],
            "text/plain": [
              "           id      region  price  ...      lat     long  state\n",
              "0  7039061606  birmingham   1195  ...  33.4226 -86.7065     al\n",
              "\n",
              "[1 rows x 19 columns]"
            ]
          },
          "metadata": {
            "tags": []
          },
          "execution_count": 70
        }
      ]
    },
    {
      "cell_type": "code",
      "metadata": {
        "id": "orCCVQONNFmG",
        "outputId": "ea20587e-6180-4c53-d083-93f3f3f44d39",
        "colab": {
          "base_uri": "https://localhost:8080/",
          "height": 69
        }
      },
      "source": [
        "# checking the duplicate data\n",
        "df[df.duplicated(['id'])]"
      ],
      "execution_count": null,
      "outputs": [
        {
          "output_type": "execute_result",
          "data": {
            "text/html": [
              "<div>\n",
              "<style scoped>\n",
              "    .dataframe tbody tr th:only-of-type {\n",
              "        vertical-align: middle;\n",
              "    }\n",
              "\n",
              "    .dataframe tbody tr th {\n",
              "        vertical-align: top;\n",
              "    }\n",
              "\n",
              "    .dataframe thead th {\n",
              "        text-align: right;\n",
              "    }\n",
              "</style>\n",
              "<table border=\"1\" class=\"dataframe\">\n",
              "  <thead>\n",
              "    <tr style=\"text-align: right;\">\n",
              "      <th></th>\n",
              "      <th>id</th>\n",
              "      <th>region</th>\n",
              "      <th>price</th>\n",
              "      <th>type</th>\n",
              "      <th>sqfeet</th>\n",
              "      <th>beds</th>\n",
              "      <th>baths</th>\n",
              "      <th>cats_allowed</th>\n",
              "      <th>dogs_allowed</th>\n",
              "      <th>smoking_allowed</th>\n",
              "      <th>wheelchair_access</th>\n",
              "      <th>electric_vehicle_charge</th>\n",
              "      <th>comes_furnished</th>\n",
              "      <th>laundry_options</th>\n",
              "      <th>parking_options</th>\n",
              "      <th>description</th>\n",
              "      <th>lat</th>\n",
              "      <th>long</th>\n",
              "      <th>state</th>\n",
              "    </tr>\n",
              "  </thead>\n",
              "  <tbody>\n",
              "  </tbody>\n",
              "</table>\n",
              "</div>"
            ],
            "text/plain": [
              "Empty DataFrame\n",
              "Columns: [id, region, price, type, sqfeet, beds, baths, cats_allowed, dogs_allowed, smoking_allowed, wheelchair_access, electric_vehicle_charge, comes_furnished, laundry_options, parking_options, description, lat, long, state]\n",
              "Index: []"
            ]
          },
          "metadata": {
            "tags": []
          },
          "execution_count": 71
        }
      ]
    },
    {
      "cell_type": "code",
      "metadata": {
        "id": "HhqwLcUPNHq4"
      },
      "source": [
        "# here it doesnot contain any duplicated data so we will drop the id column as well\n",
        "df.drop('id',axis=1,inplace=True)"
      ],
      "execution_count": null,
      "outputs": []
    },
    {
      "cell_type": "code",
      "metadata": {
        "id": "7NPHy14-NKHN",
        "outputId": "22c14db0-cf49-49af-8892-3d3b0581626d",
        "colab": {
          "base_uri": "https://localhost:8080/",
          "height": 146
        }
      },
      "source": [
        "# printing columns containg null values along with number of null values it contains\n",
        "null_columns=df.columns[df.isnull().any()]\n",
        "df[null_columns].isnull().sum()"
      ],
      "execution_count": null,
      "outputs": [
        {
          "output_type": "execute_result",
          "data": {
            "text/plain": [
              "laundry_options    54311\n",
              "parking_options    95135\n",
              "description            2\n",
              "lat                 1419\n",
              "long                1419\n",
              "state                  1\n",
              "dtype: int64"
            ]
          },
          "metadata": {
            "tags": []
          },
          "execution_count": 73
        }
      ]
    },
    {
      "cell_type": "markdown",
      "metadata": {
        "id": "2Vp4-IM3NRAO"
      },
      "source": [
        "Here we can see, laundry options and parking options has many missing value and state and description has small number of missing values\n",
        "\n"
      ]
    },
    {
      "cell_type": "markdown",
      "metadata": {
        "id": "OKVYlxwENVyq"
      },
      "source": [
        "#Filling missing values\n"
      ]
    },
    {
      "cell_type": "markdown",
      "metadata": {
        "id": "NHSkZ_SXNX2Q"
      },
      "source": [
        "Filling lat and long feature using mean lat long on the region basis and assigning this value to the missing value"
      ]
    },
    {
      "cell_type": "code",
      "metadata": {
        "id": "Q4_joztYNMpq",
        "outputId": "ccddf056-19cd-4a2b-9627-9203a60d42d0",
        "colab": {
          "base_uri": "https://localhost:8080/",
          "height": 200
        }
      },
      "source": [
        "region_lat_long_mean = df.groupby('region')['lat','long'].mean()\n",
        "region_lat_long_mean.head(2)"
      ],
      "execution_count": null,
      "outputs": [
        {
          "output_type": "stream",
          "text": [
            "/usr/local/lib/python3.6/dist-packages/ipykernel_launcher.py:1: FutureWarning: Indexing with multiple keys (implicitly converted to a tuple of keys) will be deprecated, use a list instead.\n",
            "  \"\"\"Entry point for launching an IPython kernel.\n"
          ],
          "name": "stderr"
        },
        {
          "output_type": "execute_result",
          "data": {
            "text/html": [
              "<div>\n",
              "<style scoped>\n",
              "    .dataframe tbody tr th:only-of-type {\n",
              "        vertical-align: middle;\n",
              "    }\n",
              "\n",
              "    .dataframe tbody tr th {\n",
              "        vertical-align: top;\n",
              "    }\n",
              "\n",
              "    .dataframe thead th {\n",
              "        text-align: right;\n",
              "    }\n",
              "</style>\n",
              "<table border=\"1\" class=\"dataframe\">\n",
              "  <thead>\n",
              "    <tr style=\"text-align: right;\">\n",
              "      <th></th>\n",
              "      <th>lat</th>\n",
              "      <th>long</th>\n",
              "    </tr>\n",
              "    <tr>\n",
              "      <th>region</th>\n",
              "      <th></th>\n",
              "      <th></th>\n",
              "    </tr>\n",
              "  </thead>\n",
              "  <tbody>\n",
              "    <tr>\n",
              "      <th>SF bay area</th>\n",
              "      <td>37.653862</td>\n",
              "      <td>-122.139984</td>\n",
              "    </tr>\n",
              "    <tr>\n",
              "      <th>akron / canton</th>\n",
              "      <td>41.095203</td>\n",
              "      <td>-81.514517</td>\n",
              "    </tr>\n",
              "  </tbody>\n",
              "</table>\n",
              "</div>"
            ],
            "text/plain": [
              "                      lat        long\n",
              "region                               \n",
              "SF bay area     37.653862 -122.139984\n",
              "akron / canton  41.095203  -81.514517"
            ]
          },
          "metadata": {
            "tags": []
          },
          "execution_count": 74
        }
      ]
    },
    {
      "cell_type": "code",
      "metadata": {
        "id": "LMeNvonQNaTF"
      },
      "source": [
        "# Filling the mean lat and long values\n",
        "lat_long_miss_ind = df[df['lat'].isnull()].index\n",
        "for ind in lat_long_miss_ind:\n",
        "  reg = df.loc[ind]['region']\n",
        "  lat = region_lat_long_mean.loc[reg]['lat']\n",
        "  long = region_lat_long_mean.loc[reg]['long']\n",
        "  df.loc[ind,'lat'] = lat\n",
        "  df.loc[ind,'long'] = long"
      ],
      "execution_count": null,
      "outputs": []
    },
    {
      "cell_type": "markdown",
      "metadata": {
        "id": "6rrSaxy7NhMX"
      },
      "source": [
        "In state column there was only one data missing and looking its description we found its state was ohio . So we manually replace it with 'oh'"
      ]
    },
    {
      "cell_type": "code",
      "metadata": {
        "id": "pU5UuahsNfyZ"
      },
      "source": [
        "df.at[265189,'state'] = 'oh'"
      ],
      "execution_count": null,
      "outputs": []
    },
    {
      "cell_type": "markdown",
      "metadata": {
        "id": "hMND3w1tNmvE"
      },
      "source": [
        "We can two missing description feature and since we cannot add description to it we will remove these two rows."
      ]
    },
    {
      "cell_type": "code",
      "metadata": {
        "id": "9I3N0ezANdbT",
        "outputId": "8927d4c1-03de-4041-ed0f-d0ee0733d70a",
        "colab": {
          "base_uri": "https://localhost:8080/",
          "height": 90
        }
      },
      "source": [
        "# Checking the feature with with their corresponding null values\n",
        "null_columns=df.columns[df.isnull().any()]\n",
        "df[null_columns].isnull().sum()"
      ],
      "execution_count": null,
      "outputs": [
        {
          "output_type": "execute_result",
          "data": {
            "text/plain": [
              "laundry_options    54311\n",
              "parking_options    95135\n",
              "description            2\n",
              "dtype: int64"
            ]
          },
          "metadata": {
            "tags": []
          },
          "execution_count": 77
        }
      ]
    },
    {
      "cell_type": "markdown",
      "metadata": {
        "id": "0CiWko9WNzO6"
      },
      "source": [
        "Since State and Region features have many categories and turning them into one hot vectors results in high dimensional sparse vectors. So we will convert the state and region features into numerical Price features by caculating average of price of particular state and region. "
      ]
    },
    {
      "cell_type": "code",
      "metadata": {
        "id": "NlbxpjBZN3Rg",
        "outputId": "f08bde2a-386c-4313-bb41-645945c64ba8",
        "colab": {
          "base_uri": "https://localhost:8080/",
          "height": 54
        }
      },
      "source": [
        "region_median = df.groupby('region',as_index=False)['price'].median()\n",
        "state_median = df.groupby('state',as_index=False)['price'].median()\n",
        "\n",
        "#renaming the price column as it will be same while merging to same dataframe\n",
        "region_median = region_median.rename(columns={'price':'region_median'})\n",
        "state_median = state_median.rename(columns={'price':'state_median'})\n",
        "\n",
        "print(region_median[region_median['region']=='birmingham'])"
      ],
      "execution_count": null,
      "outputs": [
        {
          "output_type": "stream",
          "text": [
            "        region  region_median\n",
            "21  birmingham          925.0\n"
          ],
          "name": "stdout"
        }
      ]
    },
    {
      "cell_type": "code",
      "metadata": {
        "id": "cGvPAfZgN0Bu",
        "outputId": "72f591dd-d12d-4463-d43d-7c51509a12c8",
        "colab": {
          "base_uri": "https://localhost:8080/",
          "height": 153
        }
      },
      "source": [
        "# Merging the two new features of medain_region_price and median_state_price and dropping state and region column\n",
        "new = df.merge(region_median,on='region',how='left')\n",
        "df = new.merge(state_median,on='state',how='left')\n",
        "df.drop(['region','state'],axis=1,inplace=True)\n",
        "df.head(1)"
      ],
      "execution_count": null,
      "outputs": [
        {
          "output_type": "execute_result",
          "data": {
            "text/html": [
              "<div>\n",
              "<style scoped>\n",
              "    .dataframe tbody tr th:only-of-type {\n",
              "        vertical-align: middle;\n",
              "    }\n",
              "\n",
              "    .dataframe tbody tr th {\n",
              "        vertical-align: top;\n",
              "    }\n",
              "\n",
              "    .dataframe thead th {\n",
              "        text-align: right;\n",
              "    }\n",
              "</style>\n",
              "<table border=\"1\" class=\"dataframe\">\n",
              "  <thead>\n",
              "    <tr style=\"text-align: right;\">\n",
              "      <th></th>\n",
              "      <th>price</th>\n",
              "      <th>type</th>\n",
              "      <th>sqfeet</th>\n",
              "      <th>beds</th>\n",
              "      <th>baths</th>\n",
              "      <th>cats_allowed</th>\n",
              "      <th>dogs_allowed</th>\n",
              "      <th>smoking_allowed</th>\n",
              "      <th>wheelchair_access</th>\n",
              "      <th>electric_vehicle_charge</th>\n",
              "      <th>comes_furnished</th>\n",
              "      <th>laundry_options</th>\n",
              "      <th>parking_options</th>\n",
              "      <th>description</th>\n",
              "      <th>lat</th>\n",
              "      <th>long</th>\n",
              "      <th>region_median</th>\n",
              "      <th>state_median</th>\n",
              "    </tr>\n",
              "  </thead>\n",
              "  <tbody>\n",
              "    <tr>\n",
              "      <th>0</th>\n",
              "      <td>1195</td>\n",
              "      <td>apartment</td>\n",
              "      <td>1908</td>\n",
              "      <td>3</td>\n",
              "      <td>2.0</td>\n",
              "      <td>1</td>\n",
              "      <td>1</td>\n",
              "      <td>1</td>\n",
              "      <td>0</td>\n",
              "      <td>0</td>\n",
              "      <td>0</td>\n",
              "      <td>laundry on site</td>\n",
              "      <td>street parking</td>\n",
              "      <td>Apartments In Birmingham AL Welcome to 100 Inv...</td>\n",
              "      <td>33.4226</td>\n",
              "      <td>-86.7065</td>\n",
              "      <td>925.0</td>\n",
              "      <td>820.0</td>\n",
              "    </tr>\n",
              "  </tbody>\n",
              "</table>\n",
              "</div>"
            ],
            "text/plain": [
              "   price       type  sqfeet  ...     long  region_median  state_median\n",
              "0   1195  apartment    1908  ... -86.7065          925.0         820.0\n",
              "\n",
              "[1 rows x 18 columns]"
            ]
          },
          "metadata": {
            "tags": []
          },
          "execution_count": 79
        }
      ]
    },
    {
      "cell_type": "code",
      "metadata": {
        "id": "L656ZPrvpKJz"
      },
      "source": [
        "# Storing the dataframe copy. It will be used in the last cells of this notebook\n",
        "original_df = df.copy()\n",
        "original_df.drop('description',axis=1,inplace=True)"
      ],
      "execution_count": null,
      "outputs": []
    },
    {
      "cell_type": "code",
      "metadata": {
        "id": "fydzdozFpcOu",
        "outputId": "5a5608aa-951a-4c9f-f887-5765ebb1833a",
        "colab": {
          "base_uri": "https://localhost:8080/",
          "height": 35
        }
      },
      "source": [
        "print(original_df.shape)"
      ],
      "execution_count": null,
      "outputs": [
        {
          "output_type": "stream",
          "text": [
            "(265190, 17)\n"
          ],
          "name": "stdout"
        }
      ]
    },
    {
      "cell_type": "code",
      "metadata": {
        "id": "qoJ6ijrbOVCR"
      },
      "source": [
        "#scaling the numerical data using standarization\n",
        "from sklearn.preprocessing import StandardScaler\n",
        "standardScaler = StandardScaler()\n",
        "columns_to_scale = ['sqfeet', 'lat', 'long', 'region_median', 'state_median']\n",
        "df[columns_to_scale] = standardScaler.fit_transform(df[columns_to_scale])"
      ],
      "execution_count": null,
      "outputs": []
    },
    {
      "cell_type": "code",
      "metadata": {
        "id": "TcBOp2r7PVmv",
        "outputId": "37517ad9-64f3-4af7-e72b-c5f05bbf9243",
        "colab": {
          "base_uri": "https://localhost:8080/",
          "height": 170
        }
      },
      "source": [
        "#Converting type column into one hot vector \n",
        "df = pd.get_dummies(df,columns=['type'])\n",
        "df.head(1)"
      ],
      "execution_count": null,
      "outputs": [
        {
          "output_type": "execute_result",
          "data": {
            "text/html": [
              "<div>\n",
              "<style scoped>\n",
              "    .dataframe tbody tr th:only-of-type {\n",
              "        vertical-align: middle;\n",
              "    }\n",
              "\n",
              "    .dataframe tbody tr th {\n",
              "        vertical-align: top;\n",
              "    }\n",
              "\n",
              "    .dataframe thead th {\n",
              "        text-align: right;\n",
              "    }\n",
              "</style>\n",
              "<table border=\"1\" class=\"dataframe\">\n",
              "  <thead>\n",
              "    <tr style=\"text-align: right;\">\n",
              "      <th></th>\n",
              "      <th>price</th>\n",
              "      <th>sqfeet</th>\n",
              "      <th>beds</th>\n",
              "      <th>baths</th>\n",
              "      <th>cats_allowed</th>\n",
              "      <th>dogs_allowed</th>\n",
              "      <th>smoking_allowed</th>\n",
              "      <th>wheelchair_access</th>\n",
              "      <th>electric_vehicle_charge</th>\n",
              "      <th>comes_furnished</th>\n",
              "      <th>laundry_options</th>\n",
              "      <th>parking_options</th>\n",
              "      <th>description</th>\n",
              "      <th>lat</th>\n",
              "      <th>long</th>\n",
              "      <th>region_median</th>\n",
              "      <th>state_median</th>\n",
              "      <th>type_apartment</th>\n",
              "      <th>type_assisted living</th>\n",
              "      <th>type_condo</th>\n",
              "      <th>type_cottage/cabin</th>\n",
              "      <th>type_duplex</th>\n",
              "      <th>type_flat</th>\n",
              "      <th>type_house</th>\n",
              "      <th>type_in-law</th>\n",
              "      <th>type_land</th>\n",
              "      <th>type_loft</th>\n",
              "      <th>type_manufactured</th>\n",
              "      <th>type_townhouse</th>\n",
              "    </tr>\n",
              "  </thead>\n",
              "  <tbody>\n",
              "    <tr>\n",
              "      <th>0</th>\n",
              "      <td>1195</td>\n",
              "      <td>0.0353</td>\n",
              "      <td>3</td>\n",
              "      <td>2.0</td>\n",
              "      <td>1</td>\n",
              "      <td>1</td>\n",
              "      <td>1</td>\n",
              "      <td>0</td>\n",
              "      <td>0</td>\n",
              "      <td>0</td>\n",
              "      <td>laundry on site</td>\n",
              "      <td>street parking</td>\n",
              "      <td>Apartments In Birmingham AL Welcome to 100 Inv...</td>\n",
              "      <td>-0.668731</td>\n",
              "      <td>0.327312</td>\n",
              "      <td>-0.54759</td>\n",
              "      <td>-0.979522</td>\n",
              "      <td>1</td>\n",
              "      <td>0</td>\n",
              "      <td>0</td>\n",
              "      <td>0</td>\n",
              "      <td>0</td>\n",
              "      <td>0</td>\n",
              "      <td>0</td>\n",
              "      <td>0</td>\n",
              "      <td>0</td>\n",
              "      <td>0</td>\n",
              "      <td>0</td>\n",
              "      <td>0</td>\n",
              "    </tr>\n",
              "  </tbody>\n",
              "</table>\n",
              "</div>"
            ],
            "text/plain": [
              "   price  sqfeet  beds  ...  type_loft  type_manufactured  type_townhouse\n",
              "0   1195  0.0353     3  ...          0                  0               0\n",
              "\n",
              "[1 rows x 29 columns]"
            ]
          },
          "metadata": {
            "tags": []
          },
          "execution_count": 84
        }
      ]
    },
    {
      "cell_type": "code",
      "metadata": {
        "id": "wsYImiRvOWRQ",
        "outputId": "fc3819be-ca6d-4299-a096-d2a689c70a41",
        "colab": {
          "base_uri": "https://localhost:8080/",
          "height": 35
        }
      },
      "source": [
        "df.shape"
      ],
      "execution_count": null,
      "outputs": [
        {
          "output_type": "execute_result",
          "data": {
            "text/plain": [
              "(265190, 29)"
            ]
          },
          "metadata": {
            "tags": []
          },
          "execution_count": 85
        }
      ]
    },
    {
      "cell_type": "markdown",
      "metadata": {
        "id": "z1av6MTPNrkg"
      },
      "source": [
        "#For Filling Laundary and Parking Options"
      ]
    },
    {
      "cell_type": "code",
      "metadata": {
        "id": "X8eXV51TNpL3",
        "outputId": "85c0a416-e39a-4ed6-bbc2-2fee8713ebac",
        "colab": {
          "base_uri": "https://localhost:8080/",
          "height": 35
        }
      },
      "source": [
        "print(\"The percentage of missing values in laundry options:{:.2f} %\".format((df[df['laundry_options'].isnull()].shape[0]/df.shape[0])*100))"
      ],
      "execution_count": null,
      "outputs": [
        {
          "output_type": "stream",
          "text": [
            "The percentage of missing values in laundry options:20.48 %\n"
          ],
          "name": "stdout"
        }
      ]
    },
    {
      "cell_type": "code",
      "metadata": {
        "id": "clB1pIghOb8V",
        "outputId": "79c758d4-28a1-49f1-8682-c172e936834b",
        "colab": {
          "base_uri": "https://localhost:8080/",
          "height": 35
        }
      },
      "source": [
        "print(\"The percentage of missing values in parking options:{:.2f} %\".format((df[df['parking_options'].isnull()].shape[0]/df.shape[0])*100))"
      ],
      "execution_count": null,
      "outputs": [
        {
          "output_type": "stream",
          "text": [
            "The percentage of missing values in parking options:35.87 %\n"
          ],
          "name": "stdout"
        }
      ]
    },
    {
      "cell_type": "markdown",
      "metadata": {
        "id": "a2l854mQOjSH"
      },
      "source": [
        "# Using machine learning to fill the null values in Laundry_options"
      ]
    },
    {
      "cell_type": "code",
      "metadata": {
        "id": "n9V9j3EpOenn"
      },
      "source": [
        "#Splitting into train and test set\n",
        "df_new = df.copy()\n",
        "df_new.drop(['description','parking_options'],axis=1,inplace=True)\n",
        "test_laundry = df_new[df_new['laundry_options'].isnull()] # keeping null values rows of laundry_options into test set\n",
        "train_laundry = df_new.drop(test_laundry.index,axis=0) "
      ],
      "execution_count": null,
      "outputs": []
    },
    {
      "cell_type": "code",
      "metadata": {
        "id": "YVJXuSgdOm9E",
        "outputId": "46a23d7a-6781-4dda-8182-6aae855eee2f",
        "colab": {
          "base_uri": "https://localhost:8080/",
          "height": 149
        }
      },
      "source": [
        "train_laundry.head(2)"
      ],
      "execution_count": null,
      "outputs": [
        {
          "output_type": "execute_result",
          "data": {
            "text/html": [
              "<div>\n",
              "<style scoped>\n",
              "    .dataframe tbody tr th:only-of-type {\n",
              "        vertical-align: middle;\n",
              "    }\n",
              "\n",
              "    .dataframe tbody tr th {\n",
              "        vertical-align: top;\n",
              "    }\n",
              "\n",
              "    .dataframe thead th {\n",
              "        text-align: right;\n",
              "    }\n",
              "</style>\n",
              "<table border=\"1\" class=\"dataframe\">\n",
              "  <thead>\n",
              "    <tr style=\"text-align: right;\">\n",
              "      <th></th>\n",
              "      <th>price</th>\n",
              "      <th>sqfeet</th>\n",
              "      <th>beds</th>\n",
              "      <th>baths</th>\n",
              "      <th>cats_allowed</th>\n",
              "      <th>dogs_allowed</th>\n",
              "      <th>smoking_allowed</th>\n",
              "      <th>wheelchair_access</th>\n",
              "      <th>electric_vehicle_charge</th>\n",
              "      <th>comes_furnished</th>\n",
              "      <th>laundry_options</th>\n",
              "      <th>lat</th>\n",
              "      <th>long</th>\n",
              "      <th>region_median</th>\n",
              "      <th>state_median</th>\n",
              "      <th>type_apartment</th>\n",
              "      <th>type_assisted living</th>\n",
              "      <th>type_condo</th>\n",
              "      <th>type_cottage/cabin</th>\n",
              "      <th>type_duplex</th>\n",
              "      <th>type_flat</th>\n",
              "      <th>type_house</th>\n",
              "      <th>type_in-law</th>\n",
              "      <th>type_land</th>\n",
              "      <th>type_loft</th>\n",
              "      <th>type_manufactured</th>\n",
              "      <th>type_townhouse</th>\n",
              "    </tr>\n",
              "  </thead>\n",
              "  <tbody>\n",
              "    <tr>\n",
              "      <th>0</th>\n",
              "      <td>1195</td>\n",
              "      <td>0.035300</td>\n",
              "      <td>3</td>\n",
              "      <td>2.0</td>\n",
              "      <td>1</td>\n",
              "      <td>1</td>\n",
              "      <td>1</td>\n",
              "      <td>0</td>\n",
              "      <td>0</td>\n",
              "      <td>0</td>\n",
              "      <td>laundry on site</td>\n",
              "      <td>-0.668731</td>\n",
              "      <td>0.327312</td>\n",
              "      <td>-0.54759</td>\n",
              "      <td>-0.979522</td>\n",
              "      <td>1</td>\n",
              "      <td>0</td>\n",
              "      <td>0</td>\n",
              "      <td>0</td>\n",
              "      <td>0</td>\n",
              "      <td>0</td>\n",
              "      <td>0</td>\n",
              "      <td>0</td>\n",
              "      <td>0</td>\n",
              "      <td>0</td>\n",
              "      <td>0</td>\n",
              "      <td>0</td>\n",
              "    </tr>\n",
              "    <tr>\n",
              "      <th>1</th>\n",
              "      <td>1120</td>\n",
              "      <td>0.009767</td>\n",
              "      <td>3</td>\n",
              "      <td>2.0</td>\n",
              "      <td>1</td>\n",
              "      <td>1</td>\n",
              "      <td>1</td>\n",
              "      <td>0</td>\n",
              "      <td>0</td>\n",
              "      <td>0</td>\n",
              "      <td>laundry on site</td>\n",
              "      <td>-0.677046</td>\n",
              "      <td>0.321669</td>\n",
              "      <td>-0.54759</td>\n",
              "      <td>-0.979522</td>\n",
              "      <td>1</td>\n",
              "      <td>0</td>\n",
              "      <td>0</td>\n",
              "      <td>0</td>\n",
              "      <td>0</td>\n",
              "      <td>0</td>\n",
              "      <td>0</td>\n",
              "      <td>0</td>\n",
              "      <td>0</td>\n",
              "      <td>0</td>\n",
              "      <td>0</td>\n",
              "      <td>0</td>\n",
              "    </tr>\n",
              "  </tbody>\n",
              "</table>\n",
              "</div>"
            ],
            "text/plain": [
              "   price    sqfeet  beds  ...  type_loft  type_manufactured  type_townhouse\n",
              "0   1195  0.035300     3  ...          0                  0               0\n",
              "1   1120  0.009767     3  ...          0                  0               0\n",
              "\n",
              "[2 rows x 27 columns]"
            ]
          },
          "metadata": {
            "tags": []
          },
          "execution_count": 89
        }
      ]
    },
    {
      "cell_type": "markdown",
      "metadata": {
        "id": "WCWTyeqobVrZ"
      },
      "source": [
        "# Using machine learning to predict the missing values of Laundry options and parking options."
      ]
    },
    {
      "cell_type": "code",
      "metadata": {
        "id": "htB5vv3iOpPr"
      },
      "source": [
        "from sklearn.model_selection import train_test_split\n",
        "from sklearn.metrics import confusion_matrix,classification_report,r2_score,accuracy_score, log_loss\n",
        "from sklearn.model_selection import GridSearchCV,RandomizedSearchCV\n",
        "from sklearn.neighbors import KNeighborsClassifier\n",
        "from sklearn.naive_bayes import MultinomialNB\n",
        "from sklearn.naive_bayes import GaussianNB\n",
        "from sklearn.ensemble import RandomForestClassifier\n",
        "from sklearn.multiclass import OneVsRestClassifier\n",
        "from sklearn.ensemble import RandomForestClassifier, VotingClassifier\n",
        "from sklearn.linear_model import LogisticRegression\n",
        "from sklearn.neighbors import KNeighborsRegressor,KNeighborsClassifier\n",
        "from sklearn.metrics import mean_squared_error\n",
        "import time\n",
        "from collections import Counter\n",
        "import pickle"
      ],
      "execution_count": null,
      "outputs": []
    },
    {
      "cell_type": "code",
      "metadata": {
        "id": "1C1IPrzOOrgx"
      },
      "source": [
        "#splitting train_laundry data\n",
        "X_train,X_test,y_train,y_test = train_test_split(train_laundry.drop('laundry_options',axis=1),train_laundry['laundry_options'],test_size=0.2)"
      ],
      "execution_count": null,
      "outputs": []
    },
    {
      "cell_type": "markdown",
      "metadata": {
        "id": "nUVaaOG4Oweu"
      },
      "source": [
        "# Using KNN For Laundry Options"
      ]
    },
    {
      "cell_type": "code",
      "metadata": {
        "id": "cSLJvzKOOtyh",
        "outputId": "78988a00-cb27-4e2d-9428-2c07f0cb80be",
        "colab": {
          "base_uri": "https://localhost:8080/",
          "height": 348
        }
      },
      "source": [
        "import time\n",
        "\n",
        "\n",
        "start = time.time()\n",
        "knn = KNeighborsClassifier()\n",
        "parameters = {'n_neighbors':[1,3,5,9,10]}\n",
        "clf = GridSearchCV(knn, parameters)\n",
        "clf.fit(X_train,y_train)\n",
        "y_pred = clf.predict(X_test)\n",
        "# plot_confusion_matrix(y_test,y_pred)\n",
        "print(classification_report(y_test,y_pred))\n",
        "print(confusion_matrix(y_test,y_pred))\n",
        "end = time.time()\n",
        "print(\"Total execution time is : \",(end-start)/60)"
      ],
      "execution_count": null,
      "outputs": [
        {
          "output_type": "stream",
          "text": [
            "                    precision    recall  f1-score   support\n",
            "\n",
            "   laundry in bldg       0.74      0.74      0.74      5493\n",
            "   laundry on site       0.80      0.82      0.81      7784\n",
            "no laundry on site       0.44      0.39      0.41       515\n",
            "       w/d hookups       0.82      0.82      0.82     10070\n",
            "       w/d in unit       0.86      0.85      0.86     18314\n",
            "\n",
            "          accuracy                           0.82     42176\n",
            "         macro avg       0.73      0.72      0.73     42176\n",
            "      weighted avg       0.82      0.82      0.82     42176\n",
            "\n",
            "[[ 4080   416    75   235   687]\n",
            " [  414  6351    70   315   634]\n",
            " [   84    84   201    61    85]\n",
            " [  247   390    51  8292  1090]\n",
            " [  719   731    65  1209 15590]]\n",
            "Total execution time is :  2.088326994578044\n"
          ],
          "name": "stdout"
        }
      ]
    },
    {
      "cell_type": "code",
      "metadata": {
        "id": "d7gM4BqPPhYS",
        "outputId": "7ae148ba-7ade-4422-f20f-7203a1d21d48",
        "colab": {
          "base_uri": "https://localhost:8080/",
          "height": 109
        }
      },
      "source": [
        "print(\"Best score::\",clf.best_score_)\n",
        "print(\"Best estimator::\",clf.best_estimator_)\n",
        "print(\"Best paramater::\",clf.best_params_)"
      ],
      "execution_count": null,
      "outputs": [
        {
          "output_type": "stream",
          "text": [
            "Best score:: 0.8086222547444516\n",
            "Best estimator:: KNeighborsClassifier(algorithm='auto', leaf_size=30, metric='minkowski',\n",
            "                     metric_params=None, n_jobs=None, n_neighbors=1, p=2,\n",
            "                     weights='uniform')\n",
            "Best paramater:: {'n_neighbors': 1}\n"
          ],
          "name": "stdout"
        }
      ]
    },
    {
      "cell_type": "code",
      "metadata": {
        "id": "ynzpM9tePkU0",
        "outputId": "cc5a8c52-74ab-41fa-fa8a-355f4adc98a0",
        "colab": {
          "base_uri": "https://localhost:8080/",
          "height": 109
        }
      },
      "source": [
        "laundry_pred_knn = clf.predict(test_laundry.drop('laundry_options',axis=1))\n",
        "Counter(laundry_pred_knn )"
      ],
      "execution_count": null,
      "outputs": [
        {
          "output_type": "execute_result",
          "data": {
            "text/plain": [
              "Counter({'laundry in bldg': 6137,\n",
              "         'laundry on site': 9036,\n",
              "         'no laundry on site': 773,\n",
              "         'w/d hookups': 13962,\n",
              "         'w/d in unit': 24403})"
            ]
          },
          "metadata": {
            "tags": []
          },
          "execution_count": 95
        }
      ]
    },
    {
      "cell_type": "code",
      "metadata": {
        "id": "EMncBgNOPFrL",
        "outputId": "3ca60268-4a40-453a-b5ff-675455131a3e",
        "colab": {
          "base_uri": "https://localhost:8080/",
          "height": 571
        }
      },
      "source": [
        "test_laundry['laundry_options'] = laundry_pred_knn\n",
        "test_laundry"
      ],
      "execution_count": null,
      "outputs": [
        {
          "output_type": "stream",
          "text": [
            "/usr/local/lib/python3.6/dist-packages/ipykernel_launcher.py:1: SettingWithCopyWarning: \n",
            "A value is trying to be set on a copy of a slice from a DataFrame.\n",
            "Try using .loc[row_indexer,col_indexer] = value instead\n",
            "\n",
            "See the caveats in the documentation: https://pandas.pydata.org/pandas-docs/stable/user_guide/indexing.html#returning-a-view-versus-a-copy\n",
            "  \"\"\"Entry point for launching an IPython kernel.\n"
          ],
          "name": "stderr"
        },
        {
          "output_type": "execute_result",
          "data": {
            "text/html": [
              "<div>\n",
              "<style scoped>\n",
              "    .dataframe tbody tr th:only-of-type {\n",
              "        vertical-align: middle;\n",
              "    }\n",
              "\n",
              "    .dataframe tbody tr th {\n",
              "        vertical-align: top;\n",
              "    }\n",
              "\n",
              "    .dataframe thead th {\n",
              "        text-align: right;\n",
              "    }\n",
              "</style>\n",
              "<table border=\"1\" class=\"dataframe\">\n",
              "  <thead>\n",
              "    <tr style=\"text-align: right;\">\n",
              "      <th></th>\n",
              "      <th>price</th>\n",
              "      <th>sqfeet</th>\n",
              "      <th>beds</th>\n",
              "      <th>baths</th>\n",
              "      <th>cats_allowed</th>\n",
              "      <th>dogs_allowed</th>\n",
              "      <th>smoking_allowed</th>\n",
              "      <th>wheelchair_access</th>\n",
              "      <th>electric_vehicle_charge</th>\n",
              "      <th>comes_furnished</th>\n",
              "      <th>laundry_options</th>\n",
              "      <th>lat</th>\n",
              "      <th>long</th>\n",
              "      <th>region_median</th>\n",
              "      <th>state_median</th>\n",
              "      <th>type_apartment</th>\n",
              "      <th>type_assisted living</th>\n",
              "      <th>type_condo</th>\n",
              "      <th>type_cottage/cabin</th>\n",
              "      <th>type_duplex</th>\n",
              "      <th>type_flat</th>\n",
              "      <th>type_house</th>\n",
              "      <th>type_in-law</th>\n",
              "      <th>type_land</th>\n",
              "      <th>type_loft</th>\n",
              "      <th>type_manufactured</th>\n",
              "      <th>type_townhouse</th>\n",
              "    </tr>\n",
              "  </thead>\n",
              "  <tbody>\n",
              "    <tr>\n",
              "      <th>10</th>\n",
              "      <td>890</td>\n",
              "      <td>-0.001893</td>\n",
              "      <td>2</td>\n",
              "      <td>2.0</td>\n",
              "      <td>0</td>\n",
              "      <td>0</td>\n",
              "      <td>1</td>\n",
              "      <td>0</td>\n",
              "      <td>0</td>\n",
              "      <td>0</td>\n",
              "      <td>w/d in unit</td>\n",
              "      <td>-0.666966</td>\n",
              "      <td>0.327369</td>\n",
              "      <td>-0.547590</td>\n",
              "      <td>-0.979522</td>\n",
              "      <td>1</td>\n",
              "      <td>0</td>\n",
              "      <td>0</td>\n",
              "      <td>0</td>\n",
              "      <td>0</td>\n",
              "      <td>0</td>\n",
              "      <td>0</td>\n",
              "      <td>0</td>\n",
              "      <td>0</td>\n",
              "      <td>0</td>\n",
              "      <td>0</td>\n",
              "      <td>0</td>\n",
              "    </tr>\n",
              "    <tr>\n",
              "      <th>49</th>\n",
              "      <td>1250</td>\n",
              "      <td>0.010591</td>\n",
              "      <td>3</td>\n",
              "      <td>2.0</td>\n",
              "      <td>0</td>\n",
              "      <td>0</td>\n",
              "      <td>1</td>\n",
              "      <td>0</td>\n",
              "      <td>0</td>\n",
              "      <td>0</td>\n",
              "      <td>w/d hookups</td>\n",
              "      <td>-0.680877</td>\n",
              "      <td>0.320466</td>\n",
              "      <td>-0.547590</td>\n",
              "      <td>-0.979522</td>\n",
              "      <td>1</td>\n",
              "      <td>0</td>\n",
              "      <td>0</td>\n",
              "      <td>0</td>\n",
              "      <td>0</td>\n",
              "      <td>0</td>\n",
              "      <td>0</td>\n",
              "      <td>0</td>\n",
              "      <td>0</td>\n",
              "      <td>0</td>\n",
              "      <td>0</td>\n",
              "      <td>0</td>\n",
              "    </tr>\n",
              "    <tr>\n",
              "      <th>62</th>\n",
              "      <td>1260</td>\n",
              "      <td>0.178046</td>\n",
              "      <td>3</td>\n",
              "      <td>2.0</td>\n",
              "      <td>1</td>\n",
              "      <td>1</td>\n",
              "      <td>1</td>\n",
              "      <td>0</td>\n",
              "      <td>0</td>\n",
              "      <td>0</td>\n",
              "      <td>laundry on site</td>\n",
              "      <td>-0.669402</td>\n",
              "      <td>0.322694</td>\n",
              "      <td>-0.547590</td>\n",
              "      <td>-0.979522</td>\n",
              "      <td>1</td>\n",
              "      <td>0</td>\n",
              "      <td>0</td>\n",
              "      <td>0</td>\n",
              "      <td>0</td>\n",
              "      <td>0</td>\n",
              "      <td>0</td>\n",
              "      <td>0</td>\n",
              "      <td>0</td>\n",
              "      <td>0</td>\n",
              "      <td>0</td>\n",
              "      <td>0</td>\n",
              "    </tr>\n",
              "    <tr>\n",
              "      <th>64</th>\n",
              "      <td>850</td>\n",
              "      <td>0.002181</td>\n",
              "      <td>3</td>\n",
              "      <td>1.0</td>\n",
              "      <td>0</td>\n",
              "      <td>0</td>\n",
              "      <td>1</td>\n",
              "      <td>0</td>\n",
              "      <td>0</td>\n",
              "      <td>0</td>\n",
              "      <td>w/d hookups</td>\n",
              "      <td>-0.628711</td>\n",
              "      <td>0.327358</td>\n",
              "      <td>-0.547590</td>\n",
              "      <td>-0.979522</td>\n",
              "      <td>0</td>\n",
              "      <td>0</td>\n",
              "      <td>0</td>\n",
              "      <td>0</td>\n",
              "      <td>0</td>\n",
              "      <td>0</td>\n",
              "      <td>1</td>\n",
              "      <td>0</td>\n",
              "      <td>0</td>\n",
              "      <td>0</td>\n",
              "      <td>0</td>\n",
              "      <td>0</td>\n",
              "    </tr>\n",
              "    <tr>\n",
              "      <th>65</th>\n",
              "      <td>1050</td>\n",
              "      <td>0.009984</td>\n",
              "      <td>4</td>\n",
              "      <td>2.0</td>\n",
              "      <td>0</td>\n",
              "      <td>0</td>\n",
              "      <td>1</td>\n",
              "      <td>0</td>\n",
              "      <td>0</td>\n",
              "      <td>0</td>\n",
              "      <td>w/d in unit</td>\n",
              "      <td>-0.628711</td>\n",
              "      <td>0.327358</td>\n",
              "      <td>-0.547590</td>\n",
              "      <td>-0.979522</td>\n",
              "      <td>0</td>\n",
              "      <td>0</td>\n",
              "      <td>0</td>\n",
              "      <td>0</td>\n",
              "      <td>0</td>\n",
              "      <td>0</td>\n",
              "      <td>1</td>\n",
              "      <td>0</td>\n",
              "      <td>0</td>\n",
              "      <td>0</td>\n",
              "      <td>0</td>\n",
              "      <td>0</td>\n",
              "    </tr>\n",
              "    <tr>\n",
              "      <th>...</th>\n",
              "      <td>...</td>\n",
              "      <td>...</td>\n",
              "      <td>...</td>\n",
              "      <td>...</td>\n",
              "      <td>...</td>\n",
              "      <td>...</td>\n",
              "      <td>...</td>\n",
              "      <td>...</td>\n",
              "      <td>...</td>\n",
              "      <td>...</td>\n",
              "      <td>...</td>\n",
              "      <td>...</td>\n",
              "      <td>...</td>\n",
              "      <td>...</td>\n",
              "      <td>...</td>\n",
              "      <td>...</td>\n",
              "      <td>...</td>\n",
              "      <td>...</td>\n",
              "      <td>...</td>\n",
              "      <td>...</td>\n",
              "      <td>...</td>\n",
              "      <td>...</td>\n",
              "      <td>...</td>\n",
              "      <td>...</td>\n",
              "      <td>...</td>\n",
              "      <td>...</td>\n",
              "      <td>...</td>\n",
              "    </tr>\n",
              "    <tr>\n",
              "      <th>265157</th>\n",
              "      <td>855</td>\n",
              "      <td>-0.006965</td>\n",
              "      <td>2</td>\n",
              "      <td>1.0</td>\n",
              "      <td>0</td>\n",
              "      <td>0</td>\n",
              "      <td>1</td>\n",
              "      <td>0</td>\n",
              "      <td>0</td>\n",
              "      <td>0</td>\n",
              "      <td>laundry in bldg</td>\n",
              "      <td>0.467346</td>\n",
              "      <td>0.547201</td>\n",
              "      <td>-0.991098</td>\n",
              "      <td>-0.807691</td>\n",
              "      <td>1</td>\n",
              "      <td>0</td>\n",
              "      <td>0</td>\n",
              "      <td>0</td>\n",
              "      <td>0</td>\n",
              "      <td>0</td>\n",
              "      <td>0</td>\n",
              "      <td>0</td>\n",
              "      <td>0</td>\n",
              "      <td>0</td>\n",
              "      <td>0</td>\n",
              "      <td>0</td>\n",
              "    </tr>\n",
              "    <tr>\n",
              "      <th>265161</th>\n",
              "      <td>1155</td>\n",
              "      <td>0.001791</td>\n",
              "      <td>2</td>\n",
              "      <td>2.0</td>\n",
              "      <td>0</td>\n",
              "      <td>0</td>\n",
              "      <td>1</td>\n",
              "      <td>0</td>\n",
              "      <td>0</td>\n",
              "      <td>0</td>\n",
              "      <td>w/d in unit</td>\n",
              "      <td>0.504065</td>\n",
              "      <td>0.536078</td>\n",
              "      <td>-0.991098</td>\n",
              "      <td>-0.807691</td>\n",
              "      <td>1</td>\n",
              "      <td>0</td>\n",
              "      <td>0</td>\n",
              "      <td>0</td>\n",
              "      <td>0</td>\n",
              "      <td>0</td>\n",
              "      <td>0</td>\n",
              "      <td>0</td>\n",
              "      <td>0</td>\n",
              "      <td>0</td>\n",
              "      <td>0</td>\n",
              "      <td>0</td>\n",
              "    </tr>\n",
              "    <tr>\n",
              "      <th>265163</th>\n",
              "      <td>1060</td>\n",
              "      <td>-0.006272</td>\n",
              "      <td>2</td>\n",
              "      <td>2.0</td>\n",
              "      <td>0</td>\n",
              "      <td>0</td>\n",
              "      <td>1</td>\n",
              "      <td>0</td>\n",
              "      <td>0</td>\n",
              "      <td>0</td>\n",
              "      <td>laundry in bldg</td>\n",
              "      <td>0.512627</td>\n",
              "      <td>0.545859</td>\n",
              "      <td>-0.991098</td>\n",
              "      <td>-0.807691</td>\n",
              "      <td>1</td>\n",
              "      <td>0</td>\n",
              "      <td>0</td>\n",
              "      <td>0</td>\n",
              "      <td>0</td>\n",
              "      <td>0</td>\n",
              "      <td>0</td>\n",
              "      <td>0</td>\n",
              "      <td>0</td>\n",
              "      <td>0</td>\n",
              "      <td>0</td>\n",
              "      <td>0</td>\n",
              "    </tr>\n",
              "    <tr>\n",
              "      <th>265174</th>\n",
              "      <td>654</td>\n",
              "      <td>-0.021834</td>\n",
              "      <td>1</td>\n",
              "      <td>1.0</td>\n",
              "      <td>0</td>\n",
              "      <td>0</td>\n",
              "      <td>1</td>\n",
              "      <td>0</td>\n",
              "      <td>0</td>\n",
              "      <td>0</td>\n",
              "      <td>w/d hookups</td>\n",
              "      <td>0.511285</td>\n",
              "      <td>0.542048</td>\n",
              "      <td>-0.991098</td>\n",
              "      <td>-0.807691</td>\n",
              "      <td>1</td>\n",
              "      <td>0</td>\n",
              "      <td>0</td>\n",
              "      <td>0</td>\n",
              "      <td>0</td>\n",
              "      <td>0</td>\n",
              "      <td>0</td>\n",
              "      <td>0</td>\n",
              "      <td>0</td>\n",
              "      <td>0</td>\n",
              "      <td>0</td>\n",
              "      <td>0</td>\n",
              "    </tr>\n",
              "    <tr>\n",
              "      <th>265187</th>\n",
              "      <td>1507</td>\n",
              "      <td>0.024549</td>\n",
              "      <td>2</td>\n",
              "      <td>1.5</td>\n",
              "      <td>1</td>\n",
              "      <td>1</td>\n",
              "      <td>1</td>\n",
              "      <td>0</td>\n",
              "      <td>0</td>\n",
              "      <td>0</td>\n",
              "      <td>w/d in unit</td>\n",
              "      <td>0.502353</td>\n",
              "      <td>0.538306</td>\n",
              "      <td>-0.991098</td>\n",
              "      <td>-0.807691</td>\n",
              "      <td>1</td>\n",
              "      <td>0</td>\n",
              "      <td>0</td>\n",
              "      <td>0</td>\n",
              "      <td>0</td>\n",
              "      <td>0</td>\n",
              "      <td>0</td>\n",
              "      <td>0</td>\n",
              "      <td>0</td>\n",
              "      <td>0</td>\n",
              "      <td>0</td>\n",
              "      <td>0</td>\n",
              "    </tr>\n",
              "  </tbody>\n",
              "</table>\n",
              "<p>54311 rows × 27 columns</p>\n",
              "</div>"
            ],
            "text/plain": [
              "        price    sqfeet  beds  ...  type_loft  type_manufactured  type_townhouse\n",
              "10        890 -0.001893     2  ...          0                  0               0\n",
              "49       1250  0.010591     3  ...          0                  0               0\n",
              "62       1260  0.178046     3  ...          0                  0               0\n",
              "64        850  0.002181     3  ...          0                  0               0\n",
              "65       1050  0.009984     4  ...          0                  0               0\n",
              "...       ...       ...   ...  ...        ...                ...             ...\n",
              "265157    855 -0.006965     2  ...          0                  0               0\n",
              "265161   1155  0.001791     2  ...          0                  0               0\n",
              "265163   1060 -0.006272     2  ...          0                  0               0\n",
              "265174    654 -0.021834     1  ...          0                  0               0\n",
              "265187   1507  0.024549     2  ...          0                  0               0\n",
              "\n",
              "[54311 rows x 27 columns]"
            ]
          },
          "metadata": {
            "tags": []
          },
          "execution_count": 96
        }
      ]
    },
    {
      "cell_type": "markdown",
      "metadata": {
        "id": "W9T-zV_xPobO"
      },
      "source": [
        "# For Parking Options"
      ]
    },
    {
      "cell_type": "code",
      "metadata": {
        "id": "4nJqs-qoPpFH"
      },
      "source": [
        "df_new2 = df.copy()\n",
        "df_new2.drop(['description','laundry_options'],axis=1,inplace=True)\n",
        "test_parking = df_new2[df_new2['parking_options'].isnull()] # keeping null values rows of parking_options into test set\n",
        "train_parking = df_new2.drop(test_parking.index,axis=0) "
      ],
      "execution_count": null,
      "outputs": []
    },
    {
      "cell_type": "code",
      "metadata": {
        "id": "rIVjqbRoPttC"
      },
      "source": [
        "#splitting train_laundry data\n",
        "X_train,X_test,y_train,y_test = train_test_split(train_parking.drop('parking_options',axis=1),train_parking['parking_options'],test_size=0.2)"
      ],
      "execution_count": null,
      "outputs": []
    },
    {
      "cell_type": "code",
      "metadata": {
        "id": "31H5BPmhPu4m",
        "outputId": "3882cadc-3821-460a-fc60-3404b7cd58a4",
        "colab": {
          "base_uri": "https://localhost:8080/",
          "height": 421
        }
      },
      "source": [
        "start = time.time()\n",
        "knn = KNeighborsClassifier()\n",
        "parameters = {'n_neighbors':[1,3,5,9,10]}\n",
        "clf2 = GridSearchCV(knn, parameters)\n",
        "clf2.fit(X_train,y_train)\n",
        "y_pred = clf2.predict(X_test)\n",
        "# plot_confusion_matrix(y_test,y_pred)\n",
        "print(classification_report(y_test,y_pred))\n",
        "print(confusion_matrix(y_test,y_pred))\n",
        "end = time.time()\n",
        "print(\"Total execution time is : \",(end-start)/60)"
      ],
      "execution_count": null,
      "outputs": [
        {
          "output_type": "stream",
          "text": [
            "                    precision    recall  f1-score   support\n",
            "\n",
            "   attached garage       0.74      0.72      0.73      5568\n",
            "           carport       0.81      0.84      0.82      5732\n",
            "   detached garage       0.63      0.66      0.65      2541\n",
            "        no parking       0.68      0.65      0.67       409\n",
            "off-street parking       0.88      0.87      0.88     17674\n",
            "    street parking       0.61      0.61      0.61      2065\n",
            "     valet parking       0.60      0.55      0.57        22\n",
            "\n",
            "          accuracy                           0.81     34011\n",
            "         macro avg       0.71      0.70      0.70     34011\n",
            "      weighted avg       0.81      0.81      0.81     34011\n",
            "\n",
            "[[ 4019   301   371    19   720   134     4]\n",
            " [  263  4808   163    10   437    50     1]\n",
            " [  278   170  1679     8   359    47     0]\n",
            " [   27    10     8   265    69    30     0]\n",
            " [  724   568   365    67 15406   541     3]\n",
            " [  121    89    61    18   509  1267     0]\n",
            " [    6     1     0     0     2     1    12]]\n",
            "Total execution time is :  1.7373977859814962\n"
          ],
          "name": "stdout"
        }
      ]
    },
    {
      "cell_type": "code",
      "metadata": {
        "id": "VrfbomNnPu2e",
        "outputId": "1cc4426a-d59e-419d-c3e3-1204f0ad14be",
        "colab": {
          "base_uri": "https://localhost:8080/",
          "height": 109
        }
      },
      "source": [
        "print(\"Best score::\",clf.best_score_)\n",
        "print(\"Best estimator::\",clf.best_estimator_)\n",
        "print(\"Best paramater::\",clf.best_params_)"
      ],
      "execution_count": null,
      "outputs": [
        {
          "output_type": "stream",
          "text": [
            "Best score:: 0.8086222547444516\n",
            "Best estimator:: KNeighborsClassifier(algorithm='auto', leaf_size=30, metric='minkowski',\n",
            "                     metric_params=None, n_jobs=None, n_neighbors=1, p=2,\n",
            "                     weights='uniform')\n",
            "Best paramater:: {'n_neighbors': 1}\n"
          ],
          "name": "stdout"
        }
      ]
    },
    {
      "cell_type": "code",
      "metadata": {
        "id": "EP0TbA_mPuyw",
        "outputId": "754fa1fa-a665-4505-c39c-3723e1ab1ba5",
        "colab": {
          "base_uri": "https://localhost:8080/",
          "height": 146
        }
      },
      "source": [
        "parking_pred_knn = clf2.predict(test_parking.drop('parking_options',axis=1))\n",
        "Counter(parking_pred_knn )"
      ],
      "execution_count": null,
      "outputs": [
        {
          "output_type": "execute_result",
          "data": {
            "text/plain": [
              "Counter({'attached garage': 11811,\n",
              "         'carport': 12336,\n",
              "         'detached garage': 6858,\n",
              "         'no parking': 2147,\n",
              "         'off-street parking': 54860,\n",
              "         'street parking': 7065,\n",
              "         'valet parking': 58})"
            ]
          },
          "metadata": {
            "tags": []
          },
          "execution_count": 101
        }
      ]
    },
    {
      "cell_type": "code",
      "metadata": {
        "id": "pm5_6C5yP2nk",
        "outputId": "e8c878f2-3c0c-4d44-b73e-034cb107989e",
        "colab": {
          "base_uri": "https://localhost:8080/",
          "height": 127
        }
      },
      "source": [
        "test_parking['parking_options'] = parking_pred_knn"
      ],
      "execution_count": null,
      "outputs": [
        {
          "output_type": "stream",
          "text": [
            "/usr/local/lib/python3.6/dist-packages/ipykernel_launcher.py:1: SettingWithCopyWarning: \n",
            "A value is trying to be set on a copy of a slice from a DataFrame.\n",
            "Try using .loc[row_indexer,col_indexer] = value instead\n",
            "\n",
            "See the caveats in the documentation: https://pandas.pydata.org/pandas-docs/stable/user_guide/indexing.html#returning-a-view-versus-a-copy\n",
            "  \"\"\"Entry point for launching an IPython kernel.\n"
          ],
          "name": "stderr"
        }
      ]
    },
    {
      "cell_type": "code",
      "metadata": {
        "id": "oUN8HGVFP3YA"
      },
      "source": [
        "\n",
        "# Index for final test set\n",
        "test_rows_index  = test_laundry.index.union(test_parking.index)"
      ],
      "execution_count": null,
      "outputs": []
    },
    {
      "cell_type": "markdown",
      "metadata": {
        "id": "SqQO2GwDTg1c"
      },
      "source": [
        "# Filling the null values with our predicted values in the dataframe"
      ]
    },
    {
      "cell_type": "code",
      "metadata": {
        "id": "jcVPWxXDTctj"
      },
      "source": [
        "df.iloc[list(test_parking.index),11]   = parking_pred_knn"
      ],
      "execution_count": null,
      "outputs": []
    },
    {
      "cell_type": "code",
      "metadata": {
        "id": "qHcKb_8PTlG4"
      },
      "source": [
        "df.iloc[list(test_laundry.index),10]   = laundry_pred_knn"
      ],
      "execution_count": null,
      "outputs": []
    },
    {
      "cell_type": "code",
      "metadata": {
        "id": "PgUGjy4fTnxt",
        "outputId": "6c6ee4ba-676a-4853-e322-d0654366ed89",
        "colab": {
          "base_uri": "https://localhost:8080/",
          "height": 35
        }
      },
      "source": [
        "df.shape"
      ],
      "execution_count": null,
      "outputs": [
        {
          "output_type": "execute_result",
          "data": {
            "text/plain": [
              "(265190, 29)"
            ]
          },
          "metadata": {
            "tags": []
          },
          "execution_count": 106
        }
      ]
    },
    {
      "cell_type": "markdown",
      "metadata": {
        "id": "POP19ZsPbuO0"
      },
      "source": [
        "# Since we have not done full analysis and removes outliers we will just use the unscaled and categorical text data"
      ]
    },
    {
      "cell_type": "code",
      "metadata": {
        "id": "izmEyCyZr9ne",
        "outputId": "6af41ffe-71e7-4f06-d9e7-0b7e1fecc58b",
        "colab": {
          "base_uri": "https://localhost:8080/",
          "height": 164
        }
      },
      "source": [
        "df.columns"
      ],
      "execution_count": null,
      "outputs": [
        {
          "output_type": "execute_result",
          "data": {
            "text/plain": [
              "Index(['price', 'sqfeet', 'beds', 'baths', 'cats_allowed', 'dogs_allowed',\n",
              "       'smoking_allowed', 'wheelchair_access', 'electric_vehicle_charge',\n",
              "       'comes_furnished', 'laundry_options', 'parking_options', 'description',\n",
              "       'lat', 'long', 'region_median', 'state_median', 'type_apartment',\n",
              "       'type_assisted living', 'type_condo', 'type_cottage/cabin',\n",
              "       'type_duplex', 'type_flat', 'type_house', 'type_in-law', 'type_land',\n",
              "       'type_loft', 'type_manufactured', 'type_townhouse'],\n",
              "      dtype='object')"
            ]
          },
          "metadata": {
            "tags": []
          },
          "execution_count": 110
        }
      ]
    },
    {
      "cell_type": "code",
      "metadata": {
        "id": "m6KovC7JWozI"
      },
      "source": [
        "# adding the missing values in the original_df(not scaled and have categorical text data)\n",
        "original_df['laundry_options'] = df['laundry_options']\n",
        "original_df['parking_options'] = df['parking_options']"
      ],
      "execution_count": null,
      "outputs": []
    },
    {
      "cell_type": "code",
      "metadata": {
        "id": "qPVm1VLMsrkM",
        "outputId": "3f396c50-47f4-4f8f-db8d-ea572b87eb39",
        "colab": {
          "base_uri": "https://localhost:8080/",
          "height": 444
        }
      },
      "source": [
        "original_df"
      ],
      "execution_count": null,
      "outputs": [
        {
          "output_type": "execute_result",
          "data": {
            "text/html": [
              "<div>\n",
              "<style scoped>\n",
              "    .dataframe tbody tr th:only-of-type {\n",
              "        vertical-align: middle;\n",
              "    }\n",
              "\n",
              "    .dataframe tbody tr th {\n",
              "        vertical-align: top;\n",
              "    }\n",
              "\n",
              "    .dataframe thead th {\n",
              "        text-align: right;\n",
              "    }\n",
              "</style>\n",
              "<table border=\"1\" class=\"dataframe\">\n",
              "  <thead>\n",
              "    <tr style=\"text-align: right;\">\n",
              "      <th></th>\n",
              "      <th>price</th>\n",
              "      <th>type</th>\n",
              "      <th>sqfeet</th>\n",
              "      <th>beds</th>\n",
              "      <th>baths</th>\n",
              "      <th>cats_allowed</th>\n",
              "      <th>dogs_allowed</th>\n",
              "      <th>smoking_allowed</th>\n",
              "      <th>wheelchair_access</th>\n",
              "      <th>electric_vehicle_charge</th>\n",
              "      <th>comes_furnished</th>\n",
              "      <th>laundry_options</th>\n",
              "      <th>parking_options</th>\n",
              "      <th>lat</th>\n",
              "      <th>long</th>\n",
              "      <th>region_median</th>\n",
              "      <th>state_median</th>\n",
              "    </tr>\n",
              "  </thead>\n",
              "  <tbody>\n",
              "    <tr>\n",
              "      <th>0</th>\n",
              "      <td>1195</td>\n",
              "      <td>apartment</td>\n",
              "      <td>1908</td>\n",
              "      <td>3</td>\n",
              "      <td>2.0</td>\n",
              "      <td>1</td>\n",
              "      <td>1</td>\n",
              "      <td>1</td>\n",
              "      <td>0</td>\n",
              "      <td>0</td>\n",
              "      <td>0</td>\n",
              "      <td>laundry on site</td>\n",
              "      <td>street parking</td>\n",
              "      <td>33.422600</td>\n",
              "      <td>-86.706500</td>\n",
              "      <td>925.0</td>\n",
              "      <td>820.0</td>\n",
              "    </tr>\n",
              "    <tr>\n",
              "      <th>1</th>\n",
              "      <td>1120</td>\n",
              "      <td>apartment</td>\n",
              "      <td>1319</td>\n",
              "      <td>3</td>\n",
              "      <td>2.0</td>\n",
              "      <td>1</td>\n",
              "      <td>1</td>\n",
              "      <td>1</td>\n",
              "      <td>0</td>\n",
              "      <td>0</td>\n",
              "      <td>0</td>\n",
              "      <td>laundry on site</td>\n",
              "      <td>off-street parking</td>\n",
              "      <td>33.375500</td>\n",
              "      <td>-86.804500</td>\n",
              "      <td>925.0</td>\n",
              "      <td>820.0</td>\n",
              "    </tr>\n",
              "    <tr>\n",
              "      <th>2</th>\n",
              "      <td>825</td>\n",
              "      <td>apartment</td>\n",
              "      <td>1133</td>\n",
              "      <td>1</td>\n",
              "      <td>1.5</td>\n",
              "      <td>1</td>\n",
              "      <td>1</td>\n",
              "      <td>1</td>\n",
              "      <td>0</td>\n",
              "      <td>0</td>\n",
              "      <td>0</td>\n",
              "      <td>laundry on site</td>\n",
              "      <td>street parking</td>\n",
              "      <td>33.422600</td>\n",
              "      <td>-86.706500</td>\n",
              "      <td>925.0</td>\n",
              "      <td>820.0</td>\n",
              "    </tr>\n",
              "    <tr>\n",
              "      <th>3</th>\n",
              "      <td>800</td>\n",
              "      <td>apartment</td>\n",
              "      <td>927</td>\n",
              "      <td>1</td>\n",
              "      <td>1.0</td>\n",
              "      <td>1</td>\n",
              "      <td>1</td>\n",
              "      <td>1</td>\n",
              "      <td>0</td>\n",
              "      <td>0</td>\n",
              "      <td>0</td>\n",
              "      <td>laundry on site</td>\n",
              "      <td>street parking</td>\n",
              "      <td>33.422600</td>\n",
              "      <td>-86.706500</td>\n",
              "      <td>925.0</td>\n",
              "      <td>820.0</td>\n",
              "    </tr>\n",
              "    <tr>\n",
              "      <th>4</th>\n",
              "      <td>785</td>\n",
              "      <td>apartment</td>\n",
              "      <td>1047</td>\n",
              "      <td>2</td>\n",
              "      <td>1.0</td>\n",
              "      <td>1</td>\n",
              "      <td>1</td>\n",
              "      <td>1</td>\n",
              "      <td>0</td>\n",
              "      <td>0</td>\n",
              "      <td>0</td>\n",
              "      <td>laundry on site</td>\n",
              "      <td>street parking</td>\n",
              "      <td>33.422600</td>\n",
              "      <td>-86.706500</td>\n",
              "      <td>925.0</td>\n",
              "      <td>820.0</td>\n",
              "    </tr>\n",
              "    <tr>\n",
              "      <th>...</th>\n",
              "      <td>...</td>\n",
              "      <td>...</td>\n",
              "      <td>...</td>\n",
              "      <td>...</td>\n",
              "      <td>...</td>\n",
              "      <td>...</td>\n",
              "      <td>...</td>\n",
              "      <td>...</td>\n",
              "      <td>...</td>\n",
              "      <td>...</td>\n",
              "      <td>...</td>\n",
              "      <td>...</td>\n",
              "      <td>...</td>\n",
              "      <td>...</td>\n",
              "      <td>...</td>\n",
              "      <td>...</td>\n",
              "      <td>...</td>\n",
              "    </tr>\n",
              "    <tr>\n",
              "      <th>265185</th>\n",
              "      <td>0</td>\n",
              "      <td>apartment</td>\n",
              "      <td>1061</td>\n",
              "      <td>2</td>\n",
              "      <td>2.0</td>\n",
              "      <td>1</td>\n",
              "      <td>1</td>\n",
              "      <td>1</td>\n",
              "      <td>0</td>\n",
              "      <td>0</td>\n",
              "      <td>0</td>\n",
              "      <td>w/d in unit</td>\n",
              "      <td>detached garage</td>\n",
              "      <td>40.049500</td>\n",
              "      <td>-83.066900</td>\n",
              "      <td>738.0</td>\n",
              "      <td>875.0</td>\n",
              "    </tr>\n",
              "    <tr>\n",
              "      <th>265186</th>\n",
              "      <td>1069</td>\n",
              "      <td>apartment</td>\n",
              "      <td>1020</td>\n",
              "      <td>2</td>\n",
              "      <td>1.5</td>\n",
              "      <td>1</td>\n",
              "      <td>1</td>\n",
              "      <td>1</td>\n",
              "      <td>0</td>\n",
              "      <td>0</td>\n",
              "      <td>0</td>\n",
              "      <td>w/d hookups</td>\n",
              "      <td>detached garage</td>\n",
              "      <td>39.840800</td>\n",
              "      <td>-83.080400</td>\n",
              "      <td>738.0</td>\n",
              "      <td>875.0</td>\n",
              "    </tr>\n",
              "    <tr>\n",
              "      <th>265187</th>\n",
              "      <td>1507</td>\n",
              "      <td>apartment</td>\n",
              "      <td>1660</td>\n",
              "      <td>2</td>\n",
              "      <td>1.5</td>\n",
              "      <td>1</td>\n",
              "      <td>1</td>\n",
              "      <td>1</td>\n",
              "      <td>0</td>\n",
              "      <td>0</td>\n",
              "      <td>0</td>\n",
              "      <td>w/d in unit</td>\n",
              "      <td>detached garage</td>\n",
              "      <td>40.056400</td>\n",
              "      <td>-83.041700</td>\n",
              "      <td>738.0</td>\n",
              "      <td>875.0</td>\n",
              "    </tr>\n",
              "    <tr>\n",
              "      <th>265188</th>\n",
              "      <td>1001</td>\n",
              "      <td>apartment</td>\n",
              "      <td>1220</td>\n",
              "      <td>3</td>\n",
              "      <td>1.5</td>\n",
              "      <td>1</td>\n",
              "      <td>1</td>\n",
              "      <td>1</td>\n",
              "      <td>0</td>\n",
              "      <td>0</td>\n",
              "      <td>0</td>\n",
              "      <td>w/d hookups</td>\n",
              "      <td>off-street parking</td>\n",
              "      <td>40.045100</td>\n",
              "      <td>-82.456400</td>\n",
              "      <td>738.0</td>\n",
              "      <td>875.0</td>\n",
              "    </tr>\n",
              "    <tr>\n",
              "      <th>265189</th>\n",
              "      <td>1164</td>\n",
              "      <td>townhouse</td>\n",
              "      <td>1300</td>\n",
              "      <td>2</td>\n",
              "      <td>2.5</td>\n",
              "      <td>1</td>\n",
              "      <td>1</td>\n",
              "      <td>0</td>\n",
              "      <td>0</td>\n",
              "      <td>0</td>\n",
              "      <td>0</td>\n",
              "      <td>w/d hookups</td>\n",
              "      <td>attached garage</td>\n",
              "      <td>34.198182</td>\n",
              "      <td>-84.487359</td>\n",
              "      <td>738.0</td>\n",
              "      <td>875.0</td>\n",
              "    </tr>\n",
              "  </tbody>\n",
              "</table>\n",
              "<p>265190 rows × 17 columns</p>\n",
              "</div>"
            ],
            "text/plain": [
              "        price       type  sqfeet  ...       long  region_median  state_median\n",
              "0        1195  apartment    1908  ... -86.706500          925.0         820.0\n",
              "1        1120  apartment    1319  ... -86.804500          925.0         820.0\n",
              "2         825  apartment    1133  ... -86.706500          925.0         820.0\n",
              "3         800  apartment     927  ... -86.706500          925.0         820.0\n",
              "4         785  apartment    1047  ... -86.706500          925.0         820.0\n",
              "...       ...        ...     ...  ...        ...            ...           ...\n",
              "265185      0  apartment    1061  ... -83.066900          738.0         875.0\n",
              "265186   1069  apartment    1020  ... -83.080400          738.0         875.0\n",
              "265187   1507  apartment    1660  ... -83.041700          738.0         875.0\n",
              "265188   1001  apartment    1220  ... -82.456400          738.0         875.0\n",
              "265189   1164  townhouse    1300  ... -84.487359          738.0         875.0\n",
              "\n",
              "[265190 rows x 17 columns]"
            ]
          },
          "metadata": {
            "tags": []
          },
          "execution_count": 123
        }
      ]
    },
    {
      "cell_type": "code",
      "metadata": {
        "id": "3wZ7usfOszon"
      },
      "source": [
        "#saving the dataframe\n",
        "original_df.to_csv('processed_data.csv',index=False)"
      ],
      "execution_count": null,
      "outputs": []
    },
    {
      "cell_type": "code",
      "metadata": {
        "id": "urNVUJ3Ps-4g"
      },
      "source": [
        ""
      ],
      "execution_count": null,
      "outputs": []
    }
  ]
}